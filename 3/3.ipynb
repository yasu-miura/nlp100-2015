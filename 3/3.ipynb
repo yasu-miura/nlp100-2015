{
 "cells": [
  {
   "cell_type": "code",
   "execution_count": 1,
   "metadata": {
    "collapsed": true
   },
   "outputs": [],
   "source": [
    "import json\n",
    "import re\n",
    "from collections import Counter\n",
    "import requests"
   ]
  },
  {
   "cell_type": "code",
   "execution_count": 9,
   "metadata": {
    "collapsed": false
   },
   "outputs": [
    {
     "name": "stdout",
     "output_type": "stream",
     "text": [
      "イギリス\n"
     ]
    }
   ],
   "source": [
    "# 20.JSONデータの読み込み\n",
    "with open(\"./jawiki-country.json\", \"r\") as f:\n",
    "    line = f.readline()\n",
    "    while line:\n",
    "        wiki = json.loads(f.readline())\n",
    "        if wiki[\"title\"] == u\"イギリス\":\n",
    "            line = None\n",
    "print wiki[\"title\"]"
   ]
  },
  {
   "cell_type": "code",
   "execution_count": 3,
   "metadata": {
    "collapsed": false
   },
   "outputs": [
    {
     "name": "stdout",
     "output_type": "stream",
     "text": [
      "[[Category:イギリス|*]]\n",
      "\n",
      "[[Category:英連邦王国|*]]\n",
      "\n",
      "[[Category:G8加盟国]]\n",
      "\n",
      "[[Category:欧州連合加盟国]]\n",
      "\n",
      "[[Category:海洋国家]]\n",
      "\n",
      "[[Category:君主国]]\n",
      "\n",
      "[[Category:島国|くれいとふりてん]]\n",
      "\n"
     ]
    }
   ],
   "source": [
    "# 21. カテゴリ名を含む行を抽出\n",
    "pattern = re.compile(\"\\[\\[Category:.*\\]\\]\\n\")\n",
    "cat_list = pattern.findall(wiki[\"text\"])\n",
    "for cat in cat_list:\n",
    "    print cat"
   ]
  },
  {
   "cell_type": "code",
   "execution_count": 4,
   "metadata": {
    "collapsed": false
   },
   "outputs": [
    {
     "name": "stdout",
     "output_type": "stream",
     "text": [
      "イギリス\n",
      "英連邦王国\n",
      "G8加盟国\n",
      "欧州連合加盟国\n",
      "海洋国家\n",
      "君主国\n",
      "島国\n"
     ]
    }
   ],
   "source": [
    "# 22.カテゴリ名の抽出\n",
    "pattern = re.compile(\":.*\\||:.*\\]\")\n",
    "cname_list = []\n",
    "for cat in cat_list:\n",
    "    m = pattern.search(cat)\n",
    "    cname = cat[m.span()[0]+1: m.span()[1]-1].replace(\"]\", \"\")\n",
    "    cname_list.append(cname)\n",
    "for cname in cname_list:\n",
    "    print cname"
   ]
  },
  {
   "cell_type": "code",
   "execution_count": 6,
   "metadata": {
    "collapsed": false
   },
   "outputs": [
    {
     "name": "stdout",
     "output_type": "stream",
     "text": [
      "~~~~~~~~~~~~セクション構造~~~~~~~~~~~~\n",
      "国名:1\n",
      "歴史:1\n",
      "地理:1\n",
      "気候:2\n",
      "政治:1\n",
      "外交と軍事:1\n",
      "地方行政区分:1\n",
      "主要都市:2\n",
      "科学技術:1\n",
      "経済:1\n",
      "鉱業:2\n",
      "農業:2\n",
      "貿易:2\n",
      "通貨:2\n",
      "企業:2\n",
      "交通:1\n",
      "道路:2\n",
      "鉄道:2\n",
      "海運:2\n",
      "航空:2\n",
      "通信:1\n",
      "国民:1\n",
      "言語:2\n",
      "宗教:2\n",
      " 婚姻 :2\n",
      "教育:2\n",
      "文化:1\n",
      "食文化:2\n",
      "文学:2\n",
      " 哲学 :2\n",
      "音楽:2\n",
      "イギリスのポピュラー音楽:3\n",
      "映画:2\n",
      "コメディ:2\n",
      "国花:2\n",
      "世界遺産:2\n",
      "祝祭日:2\n",
      "スポーツ:1\n",
      "サッカー:2\n",
      "競馬:2\n",
      "モータースポーツ:2\n",
      "脚注:1\n",
      "関連項目:1\n",
      "外部リンク:1\n"
     ]
    }
   ],
   "source": [
    "# 23.セクション構造\n",
    "pattern = re.compile(\"=[=]+.*=[=]+\\n\")\n",
    "sec_list = pattern.findall(wiki[\"text\"])\n",
    "print(\"~~~~~~~~~~~~セクション構造~~~~~~~~~~~~\")\n",
    "for sec in sec_list:\n",
    "    c = Counter(sec)\n",
    "    print sec.replace(\"=\", \"\").replace(\"\\n\", \"\") + \":\" + str((c[\"=\"] / 2) - 1)"
   ]
  },
  {
   "cell_type": "code",
   "execution_count": 7,
   "metadata": {
    "collapsed": false
   },
   "outputs": [
    {
     "name": "stdout",
     "output_type": "stream",
     "text": [
      "Royal Coat of Arms of the United Kingdom.svg\n",
      "http://esa.un.org/unpd/wpp/Excel-Data/population.htm \n",
      "http://www.imf.org/external/pubs/ft/weo/2012/02/weodata/weorept.aspx?pr.x=70&pr.y=13&sy=2010&ey=2012&scsm=1&ssd=1&sort=country&ds=.&br=1&c=112&s=NGDP%2CNGDPD%2CPPPGDP%2CPPPPC&grp=0&a= \n",
      "http://www.mod.go.jp/msdf/formal/info/news/200808/082001.html \n",
      "The British Empire.png\n",
      "http://www.cnn.co.jp/world/35023094.html\n",
      "Uk topo en.jpg\n",
      "BenNevis2005.jpg\n",
      "http://yoshio-kusano.sakura.ne.jp/nakayamakouen6newpage3.html \n",
      "David Cameron and Barack Obama at the G20 Summit in Toronto.jpg\n",
      "http://www.globalpowereurope.eu/\n",
      "http://www.raf.mod.uk/legalservices/p3chp29.htm\n",
      "http://www.mod.uk/DefenceInternet/AboutDefence/Organisation/KeyFactsAboutDefence/DefenceSpending.htm\n",
      "http://www.mod.uk/NR/rdonlyres/6FBA7459-7407-4B85-AA47-7063F1F22461/0/modara_0405_s1_resources.pdf \n",
      "http://www.asahi.com/international/update/1201/TKY201111300900.html?ref=reca \n",
      "http://mainichi.jp/select/world/europe/news/20111130k0000e030066000c.html \n",
      "Scotland Parliament Holyrood.jpg\n",
      "http://www.imf.org/external/pubs/ft/weo/2014/01/weodata/weorept.aspx?pr.x=71&pr.y=15&sy=2013&ey=2019&scsm=1&ssd=1&sort=country&ds=.&br=1&c=112&s=NGDPD%2CNGDPDPC&grp=0&a= \n",
      "http://www.atkearney.com/documents/10192/4461492/Global+Cities+Present+and+Future-GCI+2014.pdf/3628fd7d-70be-41bf-99d6-4c8eaf984cd5 \n",
      "http://www.sh.xinhuanet.com/shstatics/images2013/IFCD2013_En.pdf \n",
      "https://www.bis.org/publ/rpfx13fx.pdf \n",
      "http://www.bcg.com/expertise_impact/publications/PublicationDetails.aspx?id=tcm:12-107081 \n",
      "http://sankei.jp.msn.com/economy/business/080830/biz0808301850007-n1.htm\n",
      "Oil platform in the North SeaPros.jpg\n",
      "Eurostar at St Pancras Jan 2008.jpg\n",
      "Heathrow T5.jpg\n",
      "Anglospeak.svg\n",
      "CHANDOS3.jpg\n",
      "PalaceOfWestminsterAtNight.jpg\n",
      "Edinburgh Cockburn St dsc06789.jpg\n",
      "Stonehenge2007 07 30.jpg\n",
      "Yard2.jpg\n",
      "Durham Kathedrale Nahaufnahme.jpg\n",
      "Liverpool Pier Head by night.jpg\n",
      "http://www.royal.gov.uk/ \n",
      "http://www.direct.gov.uk/ \n",
      "https://www.gov.uk/government/organisations/prime-ministers-office-10-downing-street \n",
      "https://www.gov.uk/government/world/japan.ja \n",
      "https://www.gov.uk/government/world/organisations/british-embassy-tokyo.ja \n",
      "https://www.gov.uk/government/organisations/uk-visas-and-immigration \n",
      "http://www.vfsglobal.co.uk/japan/Japanese/ \n",
      "http://www.mofa.go.jp/mofaj/area/uk/ \n",
      "http://www.uk.emb-japan.go.jp/jp/index.html \n",
      "http://www.visitbritain.com/ja/JP/ \n",
      "http://www.jetro.go.jp/world/europe/uk/ \n"
     ]
    }
   ],
   "source": [
    "# 24.ファイル参照の抽出\n",
    "'''\n",
    "=http://~ .htm or .html|\n",
    "File:Elizaq ~ .jpg png| etc.....\n",
    "ファイル; ~ .jpg|\n",
    "<ref>[http://www.sh.xinhuanet.com/shstatics/images2013/IFCD2013_En.pdf Xinhua-Dow Jones International Financial Centers Development Index （2013)] (2013年9月公表)</ref>\n",
    "'''\n",
    "url = \"https?://[-_.!~*\\'();\\/?:@&+=\\$,%#a-zA-Z0-9]*[\\s\\|]{1}\"\n",
    "file_pattern = u\"File:[a-zA-Z0-9\\s]+\\.[a-z]+\\||ファイル:[a-zA-Z0-9\\s]+\\.[a-z]+\\|\"\n",
    "pattern = re.compile(url + \"|\" + file_pattern)\n",
    "medias = pattern.findall(wiki[\"text\"])\n",
    "media_list = []\n",
    "for media in medias:\n",
    "    if media.startswith(u\"ファイル\") or media.startswith(u\"File\"):\n",
    "        media = media[5:len(media)-1]\n",
    "        media_list.append(media)\n",
    "    elif media.startswith(u\"http\"):\n",
    "        if media[-1] == \"|\":\n",
    "            media_list.append(media[0:len(media)-1])\n",
    "        else:\n",
    "            media_list.append(media)\n",
    "\n",
    "for media in media_list:\n",
    "    print media"
   ]
  },
  {
   "cell_type": "code",
   "execution_count": 10,
   "metadata": {
    "collapsed": false
   },
   "outputs": [
    {
     "name": "stdout",
     "output_type": "stream",
     "text": [
      "人口値:63,181,775\n",
      "国章リンク:（[[イギリスの国章|国章]]）\n",
      "元首等氏名:[[エリザベス2世]]\n",
      "時間帯:±0\n",
      "標語:{{lang|fr|Dieu et mon droit}}<br/>（[[フランス語]]:神と私の権利）\n",
      "面積順位:76\n",
      "公式国名:{{lang|en|United Kingdom of Great Britain and Northern Ireland}}\n",
      "注記:\n",
      "面積値:244,820\n",
      "通貨コード:GBP\n",
      "位置画像:Location_UK_EU_Europe_001.svg\n",
      "面積大きさ:1 E11\n",
      "人口密度値:246\n",
      "確立形態1:[[イングランド王国]]／[[スコットランド王国]]<br />（両国とも[[連合法 (1707年)|1707年連合法]]まで）\n",
      "国章画像:[[ファイル:Royal Coat of Arms of the United Kingdom.svg|85px|イギリスの国章]]\n",
      "GDP統計年:2012\n",
      "確立形態2:[[グレートブリテン王国]]建国<br />（[[連合法 (1707年)|1707年連合法]]）\n",
      "建国形態:建国\n",
      "GDP統計年MER:2012\n",
      "GDP順位MER:5\n",
      "首都:[[ロンドン]]\n",
      "確立形態4:現在の国号「'''グレートブリテン及び北アイルランド連合王国'''」に変更\n",
      "日本語国名:グレートブリテン及び北アイルランド連合王国\n",
      "元首等肩書:[[イギリスの君主|女王]]\n",
      "GDP順位:6\n",
      "GDP値:2兆3162億\n",
      "ccTLD:[[.uk]] / [[.gb]]\n",
      "確立形態3:[[グレートブリテン及びアイルランド連合王国]]建国<br />（[[連合法 (1800年)|1800年連合法]]）\n",
      "GDP統計年元:2012\n",
      "公用語:[[英語]]（事実上）\n",
      "国旗画像:Flag of the United Kingdom.svg\n",
      "国際電話番号:44\n",
      "夏時間:+1\n",
      "最大都市:ロンドン\n",
      "略名:イギリス\n",
      "GDP値元:1兆5478億\n",
      "GDP値MER:2兆4337億\n",
      "水面積率:1.3%\n",
      "首相等氏名:[[デーヴィッド・キャメロン]]\n",
      "首相等肩書:[[イギリスの首相|首相]]\n",
      "人口順位:22\n",
      "GDP/人:36,727\n",
      "人口統計年:2011\n",
      "通貨:[[スターリング・ポンド|UKポンド]] (&pound;)\n",
      "ISO 3166-1:GB / GBR\n",
      "人口大きさ:1 E7\n",
      "確立年月日4:[[1927年]]\n",
      "国歌:[[女王陛下万歳|神よ女王陛下を守り給え]]\n",
      "確立年月日1:[[927年]]／[[843年]]\n",
      "確立年月日2:[[1707年]]\n",
      "確立年月日3:[[1801年]]\n"
     ]
    }
   ],
   "source": [
    "# 25.テンプレートの抽出\n",
    "lines = wiki[\"text\"].split(\"\\n\")\n",
    "index = 0\n",
    "infos = {}\n",
    "rm_pattern = r\"<ref.*/>|<ref.*</ref>\"\n",
    "line = lines[index]\n",
    "while line:\n",
    "    line = lines[index]\n",
    "    if line.startswith(\"}}\"):\n",
    "        line = None\n",
    "    elif line.startswith(\"|\"):\n",
    "        key, value = line[1:len(line)].split(\" = \")\n",
    "        infos[key] = re.sub(rm_pattern, \"\", value)\n",
    "    index += 1\n",
    "    \n",
    "for key in infos:\n",
    "    print key + \":\" + infos[key]"
   ]
  },
  {
   "cell_type": "code",
   "execution_count": 11,
   "metadata": {
    "collapsed": false
   },
   "outputs": [
    {
     "name": "stdout",
     "output_type": "stream",
     "text": [
      "人口値:63,181,775\n",
      "国章リンク:（イギリスの国章）\n",
      "元首等氏名:エリザベス2世\n",
      "時間帯:±0\n",
      "標語:Dieu et mon droit<br/>（フランス語:神と私の権利）\n",
      "面積順位:76\n",
      "公式国名:United Kingdom of Great Britain and Northern Ireland\n",
      "注記:\n",
      "面積値:244,820\n",
      "通貨コード:GBP\n",
      "位置画像:Location_UK_EU_Europe_001.svg\n",
      "面積大きさ:1 E11\n",
      "人口密度値:246\n",
      "確立形態1:イングランド王国／スコットランド王国<br />（両国とも連合法 (1707年)まで）\n",
      "国章画像:Royal Coat of Arms of the United Kingdom.svg\n",
      "GDP統計年:2012\n",
      "確立形態2:グレートブリテン王国建国<br />（連合法 (1707年)）\n",
      "建国形態:建国\n",
      "GDP統計年MER:2012\n",
      "GDP順位MER:5\n",
      "首都:ロンドン\n",
      "確立形態4:現在の国号「グレートブリテン及び北アイルランド連合王国」に変更\n",
      "日本語国名:グレートブリテン及び北アイルランド連合王国\n",
      "元首等肩書:イギリスの君主\n",
      "GDP順位:6\n",
      "GDP値:2兆3162億\n",
      "ccTLD:.uk / .gb\n",
      "確立形態3:グレートブリテン及びアイルランド連合王国建国<br />（連合法 (1800年)）\n",
      "GDP統計年元:2012\n",
      "公用語:英語（事実上）\n",
      "国旗画像:Flag of the United Kingdom.svg\n",
      "国際電話番号:44\n",
      "夏時間:+1\n",
      "最大都市:ロンドン\n",
      "略名:イギリス\n",
      "GDP値元:1兆5478億\n",
      "GDP値MER:2兆4337億\n",
      "水面積率:1.3%\n",
      "首相等氏名:デーヴィッド・キャメロン\n",
      "首相等肩書:イギリスの首相\n",
      "人口順位:22\n",
      "GDP/人:36,727\n",
      "人口統計年:2011\n",
      "通貨:スターリング・ポンド (&pound;)\n",
      "ISO 3166-1:GB / GBR\n",
      "人口大きさ:1 E7\n",
      "確立年月日4:1927年\n",
      "国歌:女王陛下万歳\n",
      "確立年月日1:927年／843年\n",
      "確立年月日2:1707年\n",
      "確立年月日3:1801年\n"
     ]
    }
   ],
   "source": [
    "# 26.強調マークアップの除去&27.内部リンクの除去&28.MediaWikiマークアップの除去\n",
    "def replace_markup(text):\n",
    "    # 強調の除去\n",
    "    em_pattern = r\"'''''|'''|''\"\n",
    "    text = re.sub(em_pattern, \"\", text)\n",
    "    markup_pattern = re.compile(\"\\[\\[.*?\\]\\]|\\{\\{.*?\\}\\}\")\n",
    "    match_list = markup_pattern.findall(text)\n",
    "    cleaned_list = []\n",
    "    for match in match_list:\n",
    "        sep = match.split(\"|\")\n",
    "        # [[ロンドン]]\n",
    "        if len(sep) == 1:\n",
    "            cleaned_text = sep[0][2:len(sep[0])-2]\n",
    "        # [[連合法 (1707年)|1707年連合法]]\n",
    "        elif len(sep) == 2:\n",
    "            cleaned_text = sep[0][2:]\n",
    "        elif len(sep) == 3:\n",
    "            # {{lang|en|United Kingdom of Great Britain and Northern Ireland}}\n",
    "            if sep[0].startswith(\"{\"):\n",
    "                cleaned_text = sep[2][:len(sep[2])-2]\n",
    "            # [[ファイル:Royal Coat of Arms of the United Kingdom.svg|85px|イギリスの国章]]\n",
    "            elif sep[0].startswith(\"[\"):\n",
    "                cleaned_text = sep[0][7:]\n",
    "        cleaned_list.append(cleaned_text)\n",
    "    for index in range(len(match_list)):\n",
    "        text = text.replace(match_list[index], cleaned_list[index])\n",
    "    return text\n",
    "\n",
    "for key in infos:\n",
    "    print key + \":\" + replace_markup(infos[key])"
   ]
  },
  {
   "cell_type": "code",
   "execution_count": 12,
   "metadata": {
    "collapsed": false
   },
   "outputs": [
    {
     "name": "stdout",
     "output_type": "stream",
     "text": [
      "https://upload.wikimedia.org/wikipedia/commons/a/ae/Flag_of_the_United_Kingdom.svg\n"
     ]
    }
   ],
   "source": [
    "# 29.国旗画像のURLを取得する\n",
    "# 画像を取得するwikiのWebAPIいけてねぇな・・・\n",
    "payload = {\"action\": \"query\", \"prop\": \"imageinfo\", \"iiprop\": \"url\", \"format\": \"json\", \"titles\": \"File:\" + infos[u\"国旗画像\"]}\n",
    "response = requests.get(\"https://commons.wikimedia.org/w/api.php\", params=payload)\n",
    "result = json.loads(response.text)\n",
    "print result[\"query\"][\"pages\"][\"347935\"][\"imageinfo\"][0][\"url\"]"
   ]
  },
  {
   "cell_type": "code",
   "execution_count": null,
   "metadata": {
    "collapsed": true
   },
   "outputs": [],
   "source": []
  }
 ],
 "metadata": {
  "kernelspec": {
   "display_name": "Python 2",
   "language": "python",
   "name": "python2"
  },
  "language_info": {
   "codemirror_mode": {
    "name": "ipython",
    "version": 2
   },
   "file_extension": ".py",
   "mimetype": "text/x-python",
   "name": "python",
   "nbconvert_exporter": "python",
   "pygments_lexer": "ipython2",
   "version": "2.7.9"
  }
 },
 "nbformat": 4,
 "nbformat_minor": 0
}
