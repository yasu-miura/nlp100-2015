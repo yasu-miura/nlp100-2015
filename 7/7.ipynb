{
 "cells": [
  {
   "cell_type": "code",
   "execution_count": 6,
   "metadata": {
    "collapsed": true
   },
   "outputs": [],
   "source": [
    "# Pythonでやる必要はないがせっかくなので\n",
    "# 60. KVSの構築\n",
    "# PyPi: https://pypi.python.org/pypi/redis\n",
    "# Redisのデータ構造: http://qiita.com/xuj/items/8de57e4bec8a36aa64a6\n",
    "import redis\n",
    "import json\n",
    "\n",
    "redis_db = redis.StrictRedis(host=\"localhost\", port=6379, db=0)\n",
    "with open(\"./artist.json\", \"r\") as f:\n",
    "    artists = [json.loads(artist) for artist in f]"
   ]
  },
  {
   "cell_type": "code",
   "execution_count": 59,
   "metadata": {
    "collapsed": false
   },
   "outputs": [],
   "source": [
    "# かなり時間がかかるのでpipelineクラスを使うべき\n",
    "with redis_db.pipeline() as pipe:\n",
    "    for artist in artists:\n",
    "        pipe.set(artist[\"name\"], artist[\"area\"] if \"area\" in artist else \"\")\n",
    "    pipe.execute()"
   ]
  },
  {
   "cell_type": "code",
   "execution_count": 60,
   "metadata": {
    "collapsed": false
   },
   "outputs": [
    {
     "name": "stdout",
     "output_type": "stream",
     "text": [
      "b'Netherlands'\n"
     ]
    }
   ],
   "source": [
    "# 61. KVSの検索\n",
    "\n",
    "artist_area = redis_db.get(\"The Silhouettes\")\n",
    "print(artist_area)"
   ]
  },
  {
   "cell_type": "code",
   "execution_count": 61,
   "metadata": {
    "collapsed": false,
    "scrolled": true
   },
   "outputs": [
    {
     "name": "stdout",
     "output_type": "stream",
     "text": [
      "21946\n"
     ]
    }
   ],
   "source": [
    "# 62. KVS内の反復処理\n",
    "\n",
    "with redis_db.pipeline() as pipe:\n",
    "    for key in redis_db.keys(\"*\"):\n",
    "        pipe.get(key)\n",
    "    artist_areas = pipe.execute()\n",
    "    print(len([area for area in artist_areas if area == b\"Japan\"]))"
   ]
  },
  {
   "cell_type": "code",
   "execution_count": 62,
   "metadata": {
    "collapsed": false
   },
   "outputs": [],
   "source": [
    "# 63. オブジェクトを値に格納したKVS\n",
    "# PythonでList型のデータをjson.dumpsしてRedisに保存してもいいが、できるだけRedisの型に従う\n",
    "# 今回はRedisのList型を使用する\n",
    "import json\n",
    "\n",
    "redis_db.flushall()\n",
    "with redis_db.pipeline() as pipe:\n",
    "    for artist in artists:\n",
    "        if \"tags\" in artist:\n",
    "            for tag in artist[\"tags\"]:\n",
    "                pipe.lpush(artist[\"name\"], json.dumps(tag))\n",
    "    pipe.execute()"
   ]
  },
  {
   "cell_type": "code",
   "execution_count": 63,
   "metadata": {
    "collapsed": false
   },
   "outputs": [
    {
     "name": "stdout",
     "output_type": "stream",
     "text": [
      "count: 1, value: split me up\n"
     ]
    }
   ],
   "source": [
    "tags = redis_db.lrange(\"Masaru Narita & D.K.I.\", 0, -1)\n",
    "for tag in tags:\n",
    "    tag = json.loads(tag.decode(\"utf-8\"))\n",
    "    print(\"count: \" + str(tag[\"count\"]) + \", value: \" + tag[\"value\"])"
   ]
  },
  {
   "cell_type": "code",
   "execution_count": 85,
   "metadata": {
    "collapsed": false
   },
   "outputs": [
    {
     "name": "stdout",
     "output_type": "stream",
     "text": [
      "921337\n"
     ]
    }
   ],
   "source": [
    "# 64. MongoDBの構築\n",
    "#  公式Tutorial: https://api.mongodb.com/python/current/tutorial.html\n",
    "# リモートからの接続を許可する場合は/etc/mongod.confを修正する\n",
    "from pymongo import MongoClient\n",
    "\n",
    "client = MongoClient('localhost', 27017)\n",
    "# DBの初期化\n",
    "client.drop_database(\"artists\")\n",
    "db = client.artists\n",
    "mongo_artists = db.artists\n",
    "results = mongo_artists.insert_many(artists)\n",
    "print(len(results.inserted_ids))"
   ]
  },
  {
   "cell_type": "code",
   "execution_count": 89,
   "metadata": {
    "collapsed": false
   },
   "outputs": [],
   "source": [
    "# indexの作成\n",
    "import pymongo\n",
    "\n",
    "result = mongo_artists.create_index([(\"name\", pymongo.ASCENDING)])\n",
    "result = mongo_artists.create_index([(\"aliases.name\", pymongo.ASCENDING)])\n",
    "result = mongo_artists.create_index([(\"tags.value\", pymongo.ASCENDING)])\n",
    "result = mongo_artists.create_index([(\"rating.value\", pymongo.ASCENDING)])"
   ]
  },
  {
   "cell_type": "code",
   "execution_count": 90,
   "metadata": {
    "collapsed": false
   },
   "outputs": [
    {
     "name": "stdout",
     "output_type": "stream",
     "text": [
      "{'gender': 'Female', 'id': 701492, 'type': 'Character', 'name': 'Queen', 'area': 'Japan', 'gid': '420ca290-76c5-41af-999e-564d7c71f1a7', '_id': ObjectId('57af33d8182ade6c58db43b8'), 'sort_name': 'Queen', 'ended': True, 'tags': [{'count': 1, 'value': 'kamen rider w'}, {'count': 1, 'value': 'related-akb48'}], 'aliases': [{'name': 'Queen', 'sort_name': 'Queen'}]}\n"
     ]
    }
   ],
   "source": [
    "# 65. MongoDBの検索\n",
    "result = mongo_artists.find_one({\"name\": \"Queen\"})\n",
    "print(result)"
   ]
  },
  {
   "cell_type": "code",
   "execution_count": 92,
   "metadata": {
    "collapsed": false
   },
   "outputs": [
    {
     "name": "stdout",
     "output_type": "stream",
     "text": [
      "22821\n"
     ]
    }
   ],
   "source": [
    "# 66. 検索件数の取得\n",
    "results = mongo_artists.find({\"area\": \"Japan\"})\n",
    "print(len([artist for artist in results]))"
   ]
  },
  {
   "cell_type": "code",
   "execution_count": 93,
   "metadata": {
    "collapsed": false
   },
   "outputs": [
    {
     "name": "stdout",
     "output_type": "stream",
     "text": [
      "{'gender': 'Female', 'id': 701492, 'type': 'Character', 'name': 'Queen', 'area': 'Japan', 'gid': '420ca290-76c5-41af-999e-564d7c71f1a7', '_id': ObjectId('57af33d8182ade6c58db43b8'), 'sort_name': 'Queen', 'ended': True, 'tags': [{'count': 1, 'value': 'kamen rider w'}, {'count': 1, 'value': 'related-akb48'}], 'aliases': [{'name': 'Queen', 'sort_name': 'Queen'}]}\n"
     ]
    }
   ],
   "source": [
    "# 67. 複数のドキュメントの取得\n",
    "results = mongo_artists.find({\"aliases.name\": \"Queen\"})\n",
    "for artist in results:\n",
    "    print(artist)"
   ]
  },
  {
   "cell_type": "code",
   "execution_count": 96,
   "metadata": {
    "collapsed": false
   },
   "outputs": [
    {
     "name": "stdout",
     "output_type": "stream",
     "text": [
      "Madonna\t26\n",
      "Björk\t23\n",
      "The Prodigy\t23\n",
      "Rihanna\t15\n",
      "Britney Spears\t13\n",
      "Maroon 5\t11\n",
      "Adam Lambert\t7\n",
      "Fatboy Slim\t7\n",
      "Basement Jaxx\t6\n",
      "Cornershop\t5\n"
     ]
    }
   ],
   "source": [
    "# 68. ソート\n",
    "high_rating_artists = [artist for artist in mongo_artists.find({\"tags.value\": \"dance\"}) if \"rating\" in artist]\n",
    "sorted_artists = sorted(high_rating_artists, key=lambda x:x[\"rating\"][\"count\"], reverse=True)\n",
    "for artist in sorted_artists[:10]:\n",
    "    print(artist[\"name\"] + \"\\t\" + str(artist[\"rating\"][\"count\"]))"
   ]
  },
  {
   "cell_type": "code",
   "execution_count": 97,
   "metadata": {
    "collapsed": true
   },
   "outputs": [],
   "source": [
    "# 69. Webアプリケーションの作成\n",
    "# アーティスト名、アーティスト別名による検索を行うWebアプリケーションを実装した\n",
    "# タグによる検索、レーティングによるソートは行わない"
   ]
  },
  {
   "cell_type": "code",
   "execution_count": null,
   "metadata": {
    "collapsed": true
   },
   "outputs": [],
   "source": []
  }
 ],
 "metadata": {
  "kernelspec": {
   "display_name": "Python 3",
   "language": "python",
   "name": "python3"
  },
  "language_info": {
   "codemirror_mode": {
    "name": "ipython",
    "version": 3
   },
   "file_extension": ".py",
   "mimetype": "text/x-python",
   "name": "python",
   "nbconvert_exporter": "python",
   "pygments_lexer": "ipython3",
   "version": "3.5.0"
  }
 },
 "nbformat": 4,
 "nbformat_minor": 0
}
