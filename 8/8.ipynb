{
 "cells": [
  {
   "cell_type": "code",
   "execution_count": 4,
   "metadata": {
    "collapsed": false
   },
   "outputs": [
    {
     "name": "stdout",
     "output_type": "stream",
     "text": [
      "正例: 5331, 負例: 5331\n"
     ]
    }
   ],
   "source": [
    "# 70. データの入手・整形\n",
    "import random\n",
    "\n",
    "with open(\"./rt-polaritydata/rt-polarity.pos\", \"r\") as pos, open(\"./rt-polaritydata/rt-polarity.neg\", \"r\") as neg, open(\"./sentiment.txt\", \"w\") as wf:\n",
    "    pos_list = [\"{} {}\".format(\"+1\", line) for line in pos]\n",
    "    neg_list = [\"{} {}\".format(\"-1\", line) for line in neg]\n",
    "    pos_list.extend(neg_list)\n",
    "    random.seed(1)\n",
    "    random.shuffle(pos_list)\n",
    "    pos_count, neg_count = 0, 0\n",
    "    for line in pos_list:\n",
    "        if line.startswith(\"+1\"):\n",
    "            pos_count += 1\n",
    "        elif line.startswith(\"-1\"):\n",
    "            neg_count += 1\n",
    "        wf.write(line)\n",
    "    print(\"正例: \" + str(pos_count) + \", 負例: \" + str(neg_count))"
   ]
  },
  {
   "cell_type": "code",
   "execution_count": 7,
   "metadata": {
    "collapsed": false
   },
   "outputs": [],
   "source": [
    "# 71. ストップワード\n",
    "# 英語のストップワードのリストは以下から取得した。利用する際はライセンスに注意すること\n",
    "# http://svn.sourceforge.jp/svnroot/slothlib/CSharp/Version1/SlothLib/NLP/Filter/StopWord/word/English.txt\n",
    "\n",
    "with open(\"./English_stopword.txt\" ,\"r\") as f:\n",
    "    stopword_list = [word.replace(\"\\n\", \"\") for word in f]\n",
    "    \n",
    "def is_stopword(word):\n",
    "    for stopword in stopword_list:\n",
    "        if word == stopword:\n",
    "            return True  \n",
    "    return False\n",
    "\n",
    "assert is_stopword(\"the\"), \"error\"\n",
    "assert is_stopword(\"a\"), \"error\"\n",
    "assert not is_stopword(\"book\"), \"error\"\n",
    "assert not is_stopword(\"apple\"), \"error\""
   ]
  },
  {
   "cell_type": "code",
   "execution_count": 8,
   "metadata": {
    "collapsed": false,
    "scrolled": true
   },
   "outputs": [
    {
     "name": "stdout",
     "output_type": "stream",
     "text": [
      "-1\tfilm press familiar herzog trope servic limpid convent histor fiction , demand director mesmeris . \n",
      "\n",
      "+1\twork magic exuber passion film length part fun . \n",
      "\n",
      "-1\telabor special effect centr screen , human stori push side . \n",
      "\n",
      "+1\tstand year intrigu movi experi , let imageri speak forc ponder anew movi . \n",
      "\n",
      "-1\tbodi episod tv show blind date , technic profici pop-up comment . \n",
      "\n",
      "-1\tchocol factori charli . \n",
      "\n"
     ]
    }
   ],
   "source": [
    "# 72. 素性抽出\n",
    "# ストップワードの除去とステミング\n",
    "\n",
    "import stemming.porter2 as porter2\n",
    "\n",
    "labels = []\n",
    "sentence_list = []\n",
    "with open(\"./sentiment.txt\", \"r\") as f:\n",
    "    for line in f:\n",
    "        label, words = line.split(\" \")[0], line.split(\" \")[1:len(line.split(\" \"))] \n",
    "        words = [porter2.stem(word) for word in words if not is_stopword(word)]\n",
    "        labels.append(label)\n",
    "        sentence_list.append(\" \".join(words))\n",
    "    \n",
    "idx = 0\n",
    "for label, sentence in zip(labels, sentence_list):\n",
    "    if idx > 5:\n",
    "        break\n",
    "    print(label + \"\\t\" + sentence)\n",
    "    idx += 1"
   ]
  },
  {
   "cell_type": "code",
   "execution_count": 9,
   "metadata": {
    "collapsed": false
   },
   "outputs": [],
   "source": [
    "# 素性としてbi-gramを使用する\n",
    "# http://scikit-learn.org/stable/modules/feature_extraction.html#text-feature-extraction\n",
    "from sklearn.feature_extraction.text import CountVectorizer\n",
    "\n",
    "bigram_vectorizer = CountVectorizer(ngram_range=(1, 2))\n",
    "features = bigram_vectorizer.fit_transform(sentence_list).toarray()"
   ]
  },
  {
   "cell_type": "code",
   "execution_count": 10,
   "metadata": {
    "collapsed": false
   },
   "outputs": [
    {
     "data": {
      "text/plain": [
       "LogisticRegression(C=1.0, class_weight=None, dual=False, fit_intercept=True,\n",
       "          intercept_scaling=1, max_iter=100, multi_class='ovr', n_jobs=1,\n",
       "          penalty='l2', random_state=None, solver='liblinear', tol=0.0001,\n",
       "          verbose=0, warm_start=False)"
      ]
     },
     "execution_count": 10,
     "metadata": {},
     "output_type": "execute_result"
    }
   ],
   "source": [
    "# 73. 学習\n",
    "from sklearn.linear_model import LogisticRegression\n",
    "\n",
    "clf = LogisticRegression()\n",
    "clf.fit(features, labels)"
   ]
  },
  {
   "cell_type": "code",
   "execution_count": 11,
   "metadata": {
    "collapsed": false
   },
   "outputs": [
    {
     "name": "stdout",
     "output_type": "stream",
     "text": [
      "-1\t['-1']\t[[ 0.11417759  0.88582241]]\n",
      "+1\t['+1']\t[[ 0.96510091  0.03489909]]\n",
      "-1\t['-1']\t[[ 0.25794333  0.74205667]]\n",
      "+1\t['+1']\t[[ 0.95698306  0.04301694]]\n",
      "-1\t['-1']\t[[ 0.03319744  0.96680256]]\n",
      "-1\t['-1']\t[[ 0.17183861  0.82816139]]\n"
     ]
    }
   ],
   "source": [
    "# 74. 予測 & 76. ラベル付け\n",
    "\n",
    "idx = 0\n",
    "for label, feature in zip(labels, features):\n",
    "    if idx > 5:\n",
    "        break\n",
    "    predict_label = clf.predict(feature.reshape(1,len(feature)))\n",
    "    predict_prob = clf.predict_proba(feature.reshape(1,len(feature)))\n",
    "    print(\"{}\\t{}\\t{}\".format(label, predict_label, predict_prob))\n",
    "    idx += 1"
   ]
  },
  {
   "cell_type": "code",
   "execution_count": 12,
   "metadata": {
    "collapsed": false,
    "scrolled": true
   },
   "outputs": [
    {
     "name": "stdout",
     "output_type": "stream",
     "text": [
      "====重みの高い素性トップ10====\n",
      "refresh\t2.1253535561175476\n",
      "bore\t2.0744694728539117\n",
      "dull\t1.8331431061908945\n",
      "wonder\t1.8303227754041198\n",
      "beauti\t1.732565779219767\n",
      "unexpect\t1.7157308521651549\n",
      "engross\t1.695388160164467\n",
      "mediocr\t1.6053869276976755\n",
      "bad\t1.6014813842761986\n",
      "worst\t1.551963302029867\n",
      "\n",
      "====重みの低い素性トップ10====\n",
      "film delight\t2.327947711773116e-06\n",
      "orphan\t4.73762989202611e-06\n",
      "archiv\t1.4003476287149566e-05\n",
      "twist charact\t3.602030408714188e-05\n",
      "unexpect move\t4.085919218731578e-05\n",
      "resist artist\t4.085919218731578e-05\n",
      "move medit\t4.085919218731578e-05\n",
      "memori resist\t4.085919218731578e-05\n",
      "made sheer\t4.085919218731578e-05\n",
      "love histori\t4.085919218731578e-05\n"
     ]
    }
   ],
   "source": [
    "# 75. 素性の重み\n",
    "\n",
    "import math\n",
    "\n",
    "feature_names = bigram_vectorizer.get_feature_names()\n",
    "coefs = clf.coef_[0]\n",
    "\n",
    "coef_list = [(feature_name, math.fabs(coef)) for feature_name, coef in zip(feature_names, coefs)]\n",
    "sorted_coefs = sorted(coef_list, key=lambda x:x[1], reverse=True)\n",
    "\n",
    "print(\"====重みの高い素性トップ10====\")\n",
    "for coef in sorted_coefs[:10]:\n",
    "    print(\"{}\\t{}\".format(coef[0], coef[1]))\n",
    "    \n",
    "print(\"\\n====重みの低い素性トップ10====\")\n",
    "for idx,coef in enumerate(reversed(sorted_coefs)):\n",
    "    if idx > 9:\n",
    "        break\n",
    "    print(\"{}\\t{}\".format(coef[0], coef[1]))"
   ]
  },
  {
   "cell_type": "code",
   "execution_count": 13,
   "metadata": {
    "collapsed": false
   },
   "outputs": [
    {
     "name": "stdout",
     "output_type": "stream",
     "text": [
      "正解率: 0.996435940724\n",
      "             precision    recall  f1-score   support\n",
      "\n",
      "         +1       1.00      0.99      1.00      5331\n",
      "         -1       0.99      1.00      1.00      5331\n",
      "\n",
      "avg / total       1.00      1.00      1.00     10662\n",
      "\n"
     ]
    }
   ],
   "source": [
    "# 77. 正解率の計測\n",
    "\n",
    "from sklearn.metrics import classification_report \n",
    "\n",
    "clf = LogisticRegression()\n",
    "clf.fit(features, labels)\n",
    "pred = clf.predict(features)\n",
    "print(\"正解率: \" + str(clf.score(features, labels)))\n",
    "print(classification_report(labels, pred, target_names=[\"+1\", \"-1\"]))"
   ]
  },
  {
   "cell_type": "code",
   "execution_count": 14,
   "metadata": {
    "collapsed": false
   },
   "outputs": [
    {
     "name": "stdout",
     "output_type": "stream",
     "text": [
      "正解率: 0.754078961019\n",
      "適合率: 0.755762884235\n",
      "再現率: 0.751079898226\n",
      "F1スコア: 0.753354917358\n"
     ]
    }
   ],
   "source": [
    "# 78. 5分割交差検定\n",
    "\n",
    "from sklearn.cross_validation import StratifiedKFold\n",
    "import numpy as np\n",
    "from sklearn import cross_validation as cv\n",
    "\n",
    "clf =  LogisticRegression()\n",
    "skf = StratifiedKFold(labels, n_folds=5)\n",
    "print(\"正解率: \" + str(np.mean(cv.cross_val_score(clf, features, [int(label) for label in labels], cv=skf, scoring=\"accuracy\"))))\n",
    "print(\"適合率: \" + str(np.mean(cv.cross_val_score(clf, features, [int(label) for label in labels], cv=skf, scoring=\"precision\"))))\n",
    "print(\"再現率: \" + str(np.mean(cv.cross_val_score(clf, features, [int(label) for label in labels], cv=skf, scoring=\"recall\"))))\n",
    "print(\"F1スコア: \" + str(np.mean(cv.cross_val_score(clf, features, [int(label) for label in labels], cv=skf, scoring=\"f1\"))))"
   ]
  },
  {
   "cell_type": "code",
   "execution_count": 20,
   "metadata": {
    "collapsed": false
   },
   "outputs": [
    {
     "data": {
      "image/png": "[encoded data removed]",
      "text/plain": [
       "<matplotlib.figure.Figure at 0x2d7ef1748>"
      ]
     },
     "metadata": {},
     "output_type": "display_data"
    }
   ],
   "source": [
    "# 79. 適合率-再現率グラフの描画\n",
    "\n",
    "from sklearn.metrics import precision_recall_curve\n",
    "from sklearn.cross_validation import train_test_split\n",
    "from sklearn.metrics import auc\n",
    "import matplotlib.pyplot as plt\n",
    "from matplotlib.font_manager import FontProperties\n",
    "%matplotlib inline\n",
    "\n",
    "clf = LogisticRegression()\n",
    "features_train, features_test, labels_train, labels_test = train_test_split(features, labels, test_size=0.3, random_state=42)\n",
    "pred_probs = clf.fit(features_train, labels_train).predict_proba(features_test.reshape(len(features_test), len(features_test[0])))\n",
    "\n",
    "# precision_recall_curve()に渡すラベルの中身は決められたレンジのintでなければならない\n",
    "precision, recall, thresholds = precision_recall_curve([int(label) for label in labels_test], pred_probs[:, 0])\n",
    "area = auc(recall, precision)\n",
    "\n",
    "plt.plot(recall, precision, label='Precision-Recall curve')\n",
    "plt.xlabel('Recall')\n",
    "plt.ylabel('Precision')\n",
    "plt.ylim([0.0, 1.05])\n",
    "plt.xlim([0.0, 1.0])\n",
    "plt.title('Precision-Recall example: AUC=%0.2f' % area)\n",
    "plt.show()"
   ]
  },
  {
   "cell_type": "code",
   "execution_count": null,
   "metadata": {
    "collapsed": true
   },
   "outputs": [],
   "source": []
  }
 ],
 "metadata": {
  "kernelspec": {
   "display_name": "Python 3",
   "language": "python",
   "name": "python3"
  },
  "language_info": {
   "codemirror_mode": {
    "name": "ipython",
    "version": 3
   },
   "file_extension": ".py",
   "mimetype": "text/x-python",
   "name": "python",
   "nbconvert_exporter": "python",
   "pygments_lexer": "ipython3",
   "version": "3.5.0"
  }
 },
 "nbformat": 4,
 "nbformat_minor": 0
}
