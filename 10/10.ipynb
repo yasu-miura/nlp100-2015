{
 "cells": [
  {
   "cell_type": "code",
   "execution_count": 46,
   "metadata": {
    "collapsed": false
   },
   "outputs": [],
   "source": [
    "# 90. word2vecによる学習\n",
    "# 81で作成したコーパスを流用する\n",
    "import re\n",
    "\n",
    "with open(\"./enwiki-20150112-400-r10-105752.txt\", \"r\") as rf, open(\"./enwiki-cleaned.txt\", \"w\") as wf:\n",
    "    for line in rf:\n",
    "        tokens = [re.sub(r\"^[\\.,!?;:\\(\\)\\[\\]\\'\\\"]+|[\\.,!?;:\\(\\)\\[\\]\\'\\\"]+$\", \"\", token) for token in line.split() if re.sub(r\"^[\\.,!?;:\\(\\)\\[\\]\\'\\\"]+|[\\.,!?;:\\(\\)\\[\\]\\'\\\"]+$\", \"\", token) is not \"\"]\n",
    "        wf.write(\" \".join(tokens) + \"\\n\")\n",
    "\n",
    "with open(\"Countries.txt\") as f:\n",
    "    country_dict = {}\n",
    "    for line in f:\n",
    "        country_dict[line.replace(\"\\n\", \"\")] = line.replace(\" \", \"_\").replace(\"\\n\", \"\")\n",
    "        \n",
    "# 以降の問いでも使うのでテキストを配列にする\n",
    "sentences = []\n",
    "with open(\"enwiki-cleaned.txt\") as f:\n",
    "    for line in f:\n",
    "        rep_line = line\n",
    "        for key in country_dict:\n",
    "            rep_line = rep_line.replace(key, country_dict[key]).strip()\n",
    "        if rep_line:\n",
    "            sentences.append(rep_line.split())\n"
   ]
  },
  {
   "cell_type": "code",
   "execution_count": 48,
   "metadata": {
    "collapsed": false
   },
   "outputs": [
    {
     "name": "stdout",
     "output_type": "stream",
     "text": [
      "CPU times: user 41min 42s, sys: 1min 46s, total: 43min 28s\n",
      "Wall time: 18min 42s\n"
     ]
    }
   ],
   "source": [
    "# word2vecの利用はgensimで行う\n",
    "from gensim.models.word2vec import Word2Vec \n",
    "\n",
    "%time model = Word2Vec(sentences, size=300, window=5, min_count=10)"
   ]
  },
  {
   "cell_type": "code",
   "execution_count": 49,
   "metadata": {
    "collapsed": false,
    "scrolled": true
   },
   "outputs": [
    {
     "data": {
      "text/plain": [
       "array([ -9.46990252e-01,  -2.20925391e-01,  -4.29126829e-01,\n",
       "         1.76833427e+00,  -3.01550835e-01,  -2.71715783e-02,\n",
       "        -4.16080981e-01,   6.43046737e-01,  -1.26192129e+00,\n",
       "         4.25159037e-01,   1.12664855e+00,   5.53063393e-01,\n",
       "        -4.01164562e-01,  -7.98924088e-01,  -9.22581673e-01,\n",
       "         9.56283391e-01,   3.13540921e-02,   1.75685096e+00,\n",
       "        -1.63640850e-03,  -1.02024460e+00,  -1.17204666e+00,\n",
       "         9.09994170e-02,  -1.24407768e-01,   7.52447695e-02,\n",
       "        -2.06808392e-02,   1.36249352e+00,   1.94466841e+00,\n",
       "        -1.69327617e+00,   1.66654550e-02,   1.54904532e+00,\n",
       "        -4.14547116e-01,   7.93690383e-02,  -5.85387826e-01,\n",
       "         6.00258946e-01,  -1.76111996e-01,  -1.22749531e+00,\n",
       "         7.24371433e-01,  -8.42755362e-02,   1.43912688e-01,\n",
       "         2.21613836e+00,  -8.51255894e-01,   4.70758975e-01,\n",
       "         9.74265039e-01,  -2.46687666e-01,  -1.62676287e+00,\n",
       "         1.84217429e+00,  -2.76540041e-01,   1.94437337e+00,\n",
       "         1.50088644e+00,  -2.57979423e-01,   2.19824219e+00,\n",
       "        -1.80717182e+00,  -1.50691772e+00,  -6.86162114e-01,\n",
       "         2.14455724e+00,  -1.59150922e+00,   2.46072680e-01,\n",
       "        -3.38604867e-01,  -4.06484939e-02,  -2.80784041e-01,\n",
       "        -3.88559127e+00,  -1.32119751e+00,   1.46656144e+00,\n",
       "         7.84992814e-01,  -1.14862904e-01,   3.02741587e-01,\n",
       "         2.25643918e-01,   1.65393829e+00,  -3.20053726e-01,\n",
       "        -6.92045033e-01,   1.11230898e+00,  -2.45699495e-01,\n",
       "        -1.61144960e+00,  -7.09142566e-01,   4.28877771e-01,\n",
       "        -1.95163608e+00,  -3.70405287e-01,  -1.69691467e+00,\n",
       "        -8.19854677e-01,  -9.74777699e-01,  -7.45149136e-01,\n",
       "         1.27227378e+00,  -1.05082548e+00,   4.83797878e-01,\n",
       "        -4.80679095e-01,  -1.27750742e+00,  -5.41896105e-01,\n",
       "         1.69255018e+00,  -7.24524975e-01,  -2.49122664e-01,\n",
       "         5.19357681e-01,  -1.19168186e+00,  -1.68225062e+00,\n",
       "         5.45807123e-01,  -4.39932883e-01,   7.98469007e-01,\n",
       "         1.03042257e+00,   1.61434937e+00,  -2.59710193e+00,\n",
       "        -7.39144027e-01,   1.73900950e+00,   6.23191856e-02,\n",
       "        -1.73694563e+00,   4.68658239e-01,   2.33114958e+00,\n",
       "        -1.31762207e+00,  -9.70882475e-01,  -2.88203172e-02,\n",
       "         4.52924848e-01,  -9.99797165e-01,   1.35570526e+00,\n",
       "         1.05908029e-01,   8.47221553e-01,   1.53961569e-01,\n",
       "        -3.95618491e-02,   5.19355163e-02,  -1.52307189e+00,\n",
       "         8.69658709e-01,  -1.04139960e+00,  -3.53886575e-01,\n",
       "        -9.16790068e-01,  -6.75137341e-02,  -1.23972431e-01,\n",
       "        -1.22029781e+00,  -9.37439725e-02,   3.70875448e-01,\n",
       "         5.15450537e-01,   9.27860588e-02,  -2.15709686e+00,\n",
       "         6.94960654e-01,   1.07749164e+00,  -1.06083906e+00,\n",
       "         3.16899596e-03,   8.35164130e-01,  -1.23373270e+00,\n",
       "        -5.26534557e-01,  -8.31489503e-01,  -1.06597990e-01,\n",
       "        -2.73779941e+00,  -4.72409219e-01,  -9.53452170e-01,\n",
       "         8.41125488e-01,  -1.21696305e+00,   1.08290851e-01,\n",
       "        -4.35771644e-01,   1.15544701e+00,  -1.69155383e+00,\n",
       "        -7.29131401e-02,   3.37641859e+00,  -2.30560303e-01,\n",
       "        -6.95420802e-01,   5.85672796e-01,   4.32030678e-01,\n",
       "        -7.03946173e-01,  -1.24587739e+00,   8.77983510e-01,\n",
       "         6.89044535e-01,   7.53844202e-01,   2.51532769e+00,\n",
       "        -5.12682557e-01,  -1.26010191e+00,  -4.31273013e-01,\n",
       "         1.54205310e+00,  -2.90181339e-01,  -9.66754317e-01,\n",
       "        -3.84894580e-01,   2.05252767e-01,   1.36591554e+00,\n",
       "         2.79244706e-02,  -3.55127692e-01,  -1.01757705e+00,\n",
       "         7.37793148e-01,  -5.13470590e-01,   1.56672609e+00,\n",
       "         5.68143606e-01,   1.36566639e-01,  -1.63995755e+00,\n",
       "        -1.59779370e-01,  -5.31596839e-01,  -1.09934378e+00,\n",
       "         1.02961588e+00,   5.53950012e-01,  -2.85172844e+00,\n",
       "        -8.32424402e-01,  -1.44350541e+00,   1.91635859e+00,\n",
       "         1.31204641e+00,   5.21323800e-01,   4.50043589e-01,\n",
       "        -3.69006008e-01,  -4.75138992e-01,  -1.26874661e+00,\n",
       "        -1.33477008e+00,  -2.70558429e+00,  -7.48072684e-01,\n",
       "        -2.18842793e+00,  -1.33666366e-01,  -5.77807963e-01,\n",
       "        -4.77365047e-01,   6.88425064e-01,  -1.35097086e+00,\n",
       "        -8.82638097e-01,   2.90494299e+00,   2.78267145e-01,\n",
       "        -1.36660087e+00,   9.60490882e-01,   3.53035033e-01,\n",
       "        -6.75135970e-01,  -1.19350028e+00,  -9.55923259e-01,\n",
       "        -6.42811835e-01,   1.53706431e+00,  -6.17501378e-01,\n",
       "        -4.59859610e-01,   6.76914513e-01,   5.84531784e-01,\n",
       "        -1.57664582e-01,  -1.29745686e+00,  -1.45089984e+00,\n",
       "        -1.41318157e-01,  -2.10078788e+00,  -5.01272321e-01,\n",
       "         2.64752150e+00,  -1.32976151e+00,   1.30187583e+00,\n",
       "        -7.40642309e-01,  -1.52342200e+00,  -8.05925876e-02,\n",
       "        -2.37737447e-01,   1.97718114e-01,   7.18313009e-02,\n",
       "         1.62936330e+00,  -3.58234704e-01,   1.04086258e-01,\n",
       "        -4.05880034e-01,  -1.21930909e+00,   1.45524418e+00,\n",
       "         2.58125377e+00,  -2.14884460e-01,  -3.37805986e+00,\n",
       "         2.37188861e-01,  -8.05949032e-01,   1.74829090e+00,\n",
       "         2.45758235e-01,   1.56346723e-01,  -1.41036236e+00,\n",
       "        -2.33523116e-01,   6.28376007e-01,  -1.50501537e+00,\n",
       "        -3.49381477e-01,   6.07140958e-01,   6.37064636e-01,\n",
       "         9.97309685e-01,   1.17892694e+00,   6.20742857e-01,\n",
       "        -2.45637462e-01,  -2.32971263e+00,  -1.18476248e+00,\n",
       "         2.53781915e-01,   1.03391075e+00,   1.46429253e+00,\n",
       "        -1.05932164e+00,  -2.14011121e+00,   1.96086720e-01,\n",
       "         1.95146871e+00,  -1.16512179e+00,  -7.04104900e-01,\n",
       "        -5.05508721e-01,  -5.19526482e-01,  -1.55940866e+00,\n",
       "        -8.72071803e-01,  -1.31314427e-01,  -1.12821746e+00,\n",
       "        -1.00193286e+00,  -1.32614231e+00,  -1.99934101e+00,\n",
       "         6.59442961e-01,   1.38248587e+00,   7.27768719e-01,\n",
       "        -5.85519612e-01,  -5.84921181e-01,   6.83706850e-02,\n",
       "         1.55111089e-01,  -6.59550846e-01,   1.07556057e+00,\n",
       "         3.26192880e+00,  -8.77021730e-01,  -1.04687892e-01,\n",
       "         7.63284445e-01,   1.14388323e+00,  -2.64610624e+00,\n",
       "        -7.48904586e-01,  -6.02274597e-01,   1.02627981e+00,\n",
       "        -2.94062471e+00,   1.06746399e+00,  -1.64035785e+00,\n",
       "         1.96722436e+00,  -1.50462747e+00,   5.34222901e-01], dtype=float32)"
      ]
     },
     "execution_count": 49,
     "metadata": {},
     "output_type": "execute_result"
    }
   ],
   "source": [
    "# 単語ベクトルの表示\n",
    "model[\"United_States\"]"
   ]
  },
  {
   "cell_type": "code",
   "execution_count": 50,
   "metadata": {
    "collapsed": false
   },
   "outputs": [
    {
     "data": {
      "text/plain": [
       "0.85339820546351286"
      ]
     },
     "execution_count": 50,
     "metadata": {},
     "output_type": "execute_result"
    }
   ],
   "source": [
    "# 単語の類似度\n",
    "model.n_similarity([\"United_States\"], [\"U.S\"])"
   ]
  },
  {
   "cell_type": "code",
   "execution_count": 51,
   "metadata": {
    "collapsed": false
   },
   "outputs": [
    {
     "data": {
      "text/plain": [
       "[('Scotland', 0.7149522304534912),\n",
       " ('Britain', 0.6780800819396973),\n",
       " ('Great_Britain', 0.6233570575714111),\n",
       " ('France', 0.596176266670227),\n",
       " ('Ireland', 0.5948725938796997),\n",
       " ('Wales', 0.5944497585296631),\n",
       " ('Hampshire', 0.5925918817520142),\n",
       " ('Cornwall', 0.5789928436279297),\n",
       " ('Worcestershire', 0.5626083016395569),\n",
       " ('Essex', 0.5539456605911255)]"
      ]
     },
     "execution_count": 51,
     "metadata": {},
     "output_type": "execute_result"
    }
   ],
   "source": [
    "# 類似度の高い単語10件\n",
    "model.most_similar(positive=[\"England\"])"
   ]
  },
  {
   "cell_type": "code",
   "execution_count": 52,
   "metadata": {
    "collapsed": false
   },
   "outputs": [
    {
     "data": {
      "text/plain": [
       "[('Greece', 0.7028288841247559),\n",
       " ('Crete', 0.5972165465354919),\n",
       " ('Persia', 0.5758514404296875),\n",
       " ('Epirus', 0.5681356191635132),\n",
       " ('Gaul', 0.5615759491920471),\n",
       " ('Byzantium', 0.5591870546340942),\n",
       " ('Armenia', 0.5539459586143494),\n",
       " ('Cyprus', 0.5457242727279663),\n",
       " ('Britain', 0.5450823307037354),\n",
       " ('Iberia', 0.5374140739440918)]"
      ]
     },
     "execution_count": 52,
     "metadata": {},
     "output_type": "execute_result"
    }
   ],
   "source": [
    "# 加法構成性によるアナロジー\n",
    "model.most_similar(positive=[\"Spain\", \"Athens\"], negative=[\"Madrid\"])"
   ]
  },
  {
   "cell_type": "code",
   "execution_count": 56,
   "metadata": {
    "collapsed": true
   },
   "outputs": [],
   "source": [
    "# 91. アナロジーデータの準備\n",
    "with open(\"questions-words.txt\") as f:\n",
    "    validate_data = [sec for sec in f.read().split(\":\") if \"family\" in sec.split(\"\\n\")[0]][0].split(\"\\n\")[1:-1]"
   ]
  },
  {
   "cell_type": "code",
   "execution_count": 57,
   "metadata": {
    "collapsed": false
   },
   "outputs": [
    {
     "name": "stdout",
     "output_type": "stream",
     "text": [
      "test: sister\tmodel_predict: sister\n",
      "test: sisters\tmodel_predict: sisters\n",
      "test: mom\tmodel_predict: mom\n",
      "test: mother\tmodel_predict: mother\n",
      "test: grandmother\tmodel_predict: grandmother\n",
      "test: grandma\tmodel_predict: Infectia\n",
      "test: granddaughter\tmodel_predict: granddaughter\n",
      "test: bride\tmodel_predict: bride\n",
      "test: she\tmodel_predict: she\n",
      "test: her\tmodel_predict: her\n",
      "test: wife\tmodel_predict: fiancé\n"
     ]
    }
   ],
   "source": [
    "# 92. アナロジーデータへの適用\n",
    "# 90.で作成した単語ベクトルに適用\n",
    "for i, sample in enumerate(validate_data):\n",
    "    words = sample.split()\n",
    "    # if all([word in model for word in words]):\n",
    "    most_similar = model.most_similar(positive=[words[1], words[2]], negative=[words[0]])[0]\n",
    "    if i <= 10:\n",
    "        print(\"test: {}\\tmodel_predict: {}\".format(words[3], most_similar[0]))\n",
    "    words.extend([most_similar[0], str(most_similar[1])])\n",
    "    validate_data[i] = \" \".join(words)"
   ]
  },
  {
   "cell_type": "code",
   "execution_count": 58,
   "metadata": {
    "collapsed": false
   },
   "outputs": [
    {
     "data": {
      "text/plain": [
       "0.66600790513834"
      ]
     },
     "execution_count": 58,
     "metadata": {},
     "output_type": "execute_result"
    }
   ],
   "source": [
    "# 93. アナロジータスクの正解率の計算\n",
    "len([sample for sample in validate_data if sample.split()[3] == sample.split()[4]]) / len(validate_data)"
   ]
  },
  {
   "cell_type": "code",
   "execution_count": 61,
   "metadata": {
    "collapsed": true
   },
   "outputs": [],
   "source": [
    "# 94. WordSimilarity-353での類似度計算\n",
    "import csv\n",
    "with open(\"combined.csv\") as f:\n",
    "    ws_353 = [row for row in csv.DictReader(f)]"
   ]
  },
  {
   "cell_type": "code",
   "execution_count": 65,
   "metadata": {
    "collapsed": false
   },
   "outputs": [],
   "source": [
    "for i, sample in enumerate(ws_353):\n",
    "    sample[\"model_score\"] = model.n_similarity(sample[\"Word 1\"], sample[\"Word 2\"])\n",
    "    ws_353[i] = sample"
   ]
  },
  {
   "cell_type": "code",
   "execution_count": 75,
   "metadata": {
    "collapsed": false
   },
   "outputs": [],
   "source": [
    "# 95. WordSimilarity-353での評価\n",
    "for i, sample in enumerate(sorted(ws_353, key=lambda x:x[\"Human (mean)\"], reverse=True)):\n",
    "    sample[\"Human_rank\"] = i\n",
    "    ws_353[i] = sample\n",
    "    \n",
    "for i, sample in enumerate(sorted(ws_353, key=lambda x:x[\"model_score\"], reverse=True)):\n",
    "    sample[\"model_rank\"] = i\n",
    "    ws_353[i] = sample"
   ]
  },
  {
   "cell_type": "code",
   "execution_count": 79,
   "metadata": {
    "collapsed": false
   },
   "outputs": [
    {
     "name": "stdout",
     "output_type": "stream",
     "text": [
      "-0.08027849557174482\n"
     ]
    }
   ],
   "source": [
    "# スピアマン相関係数が0に近いということは人間の類似度判定とモデルの類似度判定には相関がほぼない\n",
    "# WS-353でつけた人間の考える類似度とword2vecの学習する類似度が違うものである可能性がある\n",
    "import math\n",
    "n = len(ws_353)\n",
    "speaman_rank_correlation = 1 - ((6 * sum([math.pow(sample[\"Human_rank\"] - sample[\"model_rank\"], 2) for sample in ws_353])) / (math.pow(n, 3) - n))\n",
    "print(speaman_rank_correlation)"
   ]
  },
  {
   "cell_type": "code",
   "execution_count": 98,
   "metadata": {
    "collapsed": false
   },
   "outputs": [],
   "source": [
    "# 96. 国名に関するベクトルの抽出\n",
    "countries = country_dict.values()\n",
    "country_vectors = [(country, model[country]) for country in countries if country in model]"
   ]
  },
  {
   "cell_type": "code",
   "execution_count": 99,
   "metadata": {
    "collapsed": true
   },
   "outputs": [],
   "source": [
    "# 97. k-meansクラスタリング\n",
    "from sklearn.cluster import KMeans\n",
    "import numpy\n",
    "\n",
    "X = numpy.array([country[1] for country in country_vectors])\n",
    "kmeans = KMeans(n_clusters=5, random_state=0).fit(X)"
   ]
  },
  {
   "cell_type": "code",
   "execution_count": 100,
   "metadata": {
    "collapsed": false,
    "scrolled": true
   },
   "outputs": [
    {
     "data": {
      "text/plain": [
       "array([1, 1, 1, 2, 0, 3, 4, 0, 1, 1, 1, 1, 1, 0, 2, 1, 3, 2, 0, 1, 1, 1, 4,\n",
       "       0, 0, 0, 1, 1, 1, 2, 1, 3, 1, 4, 3, 1, 1, 1, 1, 0, 1, 4, 4, 1, 3, 3,\n",
       "       1, 0, 3, 1, 0, 2, 4, 1, 3, 2, 3, 1, 1, 3, 1, 1, 3, 0, 1, 3, 1, 3, 1,\n",
       "       1, 1, 0, 4, 1, 1, 1, 3, 1, 1, 1, 1, 0, 1, 1, 1, 2, 1, 1, 1, 0, 3, 1,\n",
       "       2, 0, 4, 2, 1, 0, 1, 1, 1, 1, 1, 1, 0, 1, 2, 1, 1, 3, 1, 3, 1, 1, 0,\n",
       "       0, 1, 1, 3, 1, 1, 3, 1, 3, 2, 2, 1, 1, 1, 2, 3, 1, 0, 1, 1, 1, 1, 3,\n",
       "       1, 4, 1, 1, 1, 1, 4, 1, 0, 0, 1, 0, 3, 3, 3, 1, 3, 2, 1, 2, 1, 1, 2,\n",
       "       2, 0, 2, 4, 1, 1, 1, 2, 2, 4, 4, 1, 1, 2, 3, 1, 3, 3, 4, 0, 0, 1, 0,\n",
       "       1, 0, 2, 1, 2, 3, 3, 3, 1, 1, 1, 1, 0, 3, 3, 1, 0, 2, 4, 4, 1, 1, 1,\n",
       "       2, 1, 1, 1, 1, 1, 3, 0, 0, 2, 3, 2, 1, 4, 2, 1, 1, 1, 0, 1], dtype=int32)"
      ]
     },
     "execution_count": 100,
     "metadata": {},
     "output_type": "execute_result"
    }
   ],
   "source": [
    "kmeans.labels_"
   ]
  },
  {
   "cell_type": "code",
   "execution_count": 135,
   "metadata": {
    "collapsed": false,
    "scrolled": true
   },
   "outputs": [
    {
     "name": "stdout",
     "output_type": "stream",
     "text": [
      "cluster 0\n",
      "Belgium\n",
      "Albania\n",
      "Lithuania\n",
      "\n",
      "\n",
      "cluster 1\n",
      "Chad\n",
      "Greenland\n",
      "Rwanda\n",
      "\n",
      "\n",
      "cluster 2\n",
      "Canada\n",
      "Brazil\n",
      "United_States\n",
      "\n",
      "\n",
      "cluster 3\n",
      "Mongolia\n",
      "Iraq\n",
      "Laos\n",
      "\n",
      "\n",
      "cluster 4\n",
      "China\n",
      "Japan\n",
      "Malaysia\n",
      "\n",
      "\n"
     ]
    }
   ],
   "source": [
    "clusters = {}\n",
    "clusters[0], clusters[1], clusters[2], clusters[3], clusters[4] = [], [], [], [], []\n",
    "for cluster_idx, country in zip(kmeans.labels_, country_vectors):\n",
    "    clusters[cluster_idx].append(country)\n",
    "\n",
    "# 各クラスターの国を３件だけ表示\n",
    "for cluster_idx, cluster in clusters.items():\n",
    "    print(\"cluster {}\".format(str(cluster_idx)))\n",
    "    for country in cluster[:3]:\n",
    "        print(country[0])\n",
    "    print(\"\\n\")"
   ]
  },
  {
   "cell_type": "code",
   "execution_count": 101,
   "metadata": {
    "collapsed": true
   },
   "outputs": [],
   "source": [
    "# 98. Ward法によるクラスタリング\n",
    "from scipy.cluster.hierarchy import dendrogram, linkage\n",
    "import matplotlib.pyplot as plt\n",
    "from matplotlib.font_manager import FontProperties\n",
    "%matplotlib inline\n",
    "\n",
    "Z = linkage(X, \"ward\")"
   ]
  },
  {
   "cell_type": "code",
   "execution_count": 109,
   "metadata": {
    "collapsed": false
   },
   "outputs": [
    {
     "data": {
      "image/png": "[encoded data removed]",
      "text/plain": [
       "<matplotlib.figure.Figure at 0x1105b78d0>"
      ]
     },
     "metadata": {},
     "output_type": "display_data"
    }
   ],
   "source": [
    "plt.figure(figsize=(25, 10))\n",
    "plt.title('Hierarchical Clustering Dendrogram')\n",
    "plt.xlabel('Country')\n",
    "plt.ylabel('distance')\n",
    "dendrogram(Z, leaf_font_size=7., labels=numpy.array([country[0] for country in country_vectors]))\n",
    "plt.show()"
   ]
  },
  {
   "cell_type": "code",
   "execution_count": 136,
   "metadata": {
    "collapsed": true
   },
   "outputs": [],
   "source": [
    "# 99. t-SNEによる可視化\n",
    "from sklearn.manifold import TSNE\n",
    "\n",
    "model = TSNE(n_components=2, learning_rate=1000, perplexity=30)\n",
    "compact_X = model.fit_transform(X)"
   ]
  },
  {
   "cell_type": "code",
   "execution_count": 137,
   "metadata": {
    "collapsed": false
   },
   "outputs": [
    {
     "data": {
      "text/plain": [
       "<seaborn.axisgrid.JointGrid at 0x13d834cc0>"
      ]
     },
     "execution_count": 137,
     "metadata": {},
     "output_type": "execute_result"
    },
    {
     "data": {
      "image/png": "[encoded data removed]",
      "text/plain": [
       "<matplotlib.figure.Figure at 0x13d959d30>"
      ]
     },
     "metadata": {},
     "output_type": "display_data"
    }
   ],
   "source": [
    "import seaborn as sns\n",
    "import pandas as pd\n",
    "\n",
    "df = pd.DataFrame(compact_X, columns=[\"dim1\", \"dim2\"])\n",
    "sns.jointplot(\"dim1\", \"dim2\", data=df)"
   ]
  },
  {
   "cell_type": "code",
   "execution_count": null,
   "metadata": {
    "collapsed": true
   },
   "outputs": [],
   "source": []
  }
 ],
 "metadata": {
  "kernelspec": {
   "display_name": "advtraining",
   "language": "python",
   "name": "advtraining"
  },
  "language_info": {
   "codemirror_mode": {
    "name": "ipython",
    "version": 3
   },
   "file_extension": ".py",
   "mimetype": "text/x-python",
   "name": "python",
   "nbconvert_exporter": "python",
   "pygments_lexer": "ipython3",
   "version": "3.5.0"
  }
 },
 "nbformat": 4,
 "nbformat_minor": 0
}
