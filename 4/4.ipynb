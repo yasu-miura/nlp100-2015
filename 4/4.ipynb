{
 "cells": [
  {
   "cell_type": "code",
   "execution_count": 1,
   "metadata": {
    "collapsed": false
   },
   "outputs": [],
   "source": [
    "import MeCab\n",
    "\n",
    "\n",
    "# 準備\n",
    "with open(\"./neko.txt\", \"r\", ) as f:\n",
    "    text = f.read()\n",
    "m = MeCab.Tagger(\"mecabrc\")\n",
    "parse_text = m.parse(text)\n",
    "with open(\"./neko.txt.mecab\", \"w\") as f:\n",
    "    f.write(parse_text)"
   ]
  },
  {
   "cell_type": "code",
   "execution_count": 2,
   "metadata": {
    "collapsed": false
   },
   "outputs": [
    {
     "name": "stdout",
     "output_type": "stream",
     "text": [
      "7486\n"
     ]
    }
   ],
   "source": [
    "# 30. 形態素解析結果の読み込み\n",
    "all_sent_list = []\n",
    "sent_list = []\n",
    "with open(\"./neko.txt.mecab\", \"r\") as f:\n",
    "    line = f.readline()\n",
    "    while line:\n",
    "        if line.decode(\"utf-8\") == u\"EOS\\n\":\n",
    "            line = None\n",
    "            continue\n",
    "        morph = {}\n",
    "        surface, features = line.split(\"\\t\")[0], line.split(\"\\t\")[1].split(\",\")\n",
    "        morph[\"surface\"] , morph[\"base\"], morph[\"pos\"], morph[\"pos1\"] = surface, features[6], features[0], features[1]\n",
    "        sent_list.append(morph)\n",
    "        if morph[\"surface\"].decode(\"utf-8\") == u\"。\":\n",
    "            all_sent_list.append(sent_list)\n",
    "            sent_list = []\n",
    "        line = f.readline()\n",
    "print len(all_sent_list)"
   ]
  },
  {
   "cell_type": "code",
   "execution_count": 3,
   "metadata": {
    "collapsed": false
   },
   "outputs": [
    {
     "name": "stdout",
     "output_type": "stream",
     "text": [
      "28908\n"
     ]
    }
   ],
   "source": [
    "# 31. 動詞 & 32.動詞の原形\n",
    "verb_surface_list = []\n",
    "verb_base_list = []\n",
    "for sentence in all_sent_list:\n",
    "    for morph in sentence:\n",
    "        if morph[\"pos\"].decode(\"utf-8\") == u\"動詞\":\n",
    "            verb_surface_list.append(morph[\"surface\"])\n",
    "            verb_base_list.append(morph[\"base\"])\n",
    "print len(verb_surface_list)"
   ]
  },
  {
   "cell_type": "code",
   "execution_count": 4,
   "metadata": {
    "collapsed": false
   },
   "outputs": [
    {
     "name": "stdout",
     "output_type": "stream",
     "text": [
      "5216\n"
     ]
    }
   ],
   "source": [
    "# 33. サ変名詞\n",
    "sahen_list = []\n",
    "for sentence in all_sent_list:\n",
    "    for morph in sentence:\n",
    "        if morph[\"pos1\"].decode(\"utf-8\") == u\"サ変接続\":\n",
    "            sahen_list.append(morph)\n",
    "print len(sahen_list)"
   ]
  },
  {
   "cell_type": "code",
   "execution_count": 5,
   "metadata": {
    "collapsed": false
   },
   "outputs": [
    {
     "name": "stdout",
     "output_type": "stream",
     "text": [
      "6045\n"
     ]
    }
   ],
   "source": [
    "# 34. 「AのB」\n",
    "rensetsu_list = []\n",
    "for sentence in all_sent_list:\n",
    "    two_before_morph = None\n",
    "    one_before_morph = None\n",
    "    for morph in sentence:\n",
    "        if two_before_morph is not None and one_before_morph is not None:\n",
    "            if (two_before_morph[\"pos\"].decode(\"utf-8\") == u\"名詞\") and (one_before_morph[\"surface\"].decode(\"utf-8\") == u\"の\") and (morph[\"pos\"].decode(\"utf-8\") == u\"名詞\" ):\n",
    "                rensetsu = [two_before_morph, one_before_morph, morph] \n",
    "                rensetsu_list.append(rensetsu)\n",
    "        two_before_morph = one_before_morph\n",
    "        one_before_morph = morph\n",
    "print len(rensetsu_list)"
   ]
  },
  {
   "cell_type": "code",
   "execution_count": 6,
   "metadata": {
    "collapsed": false
   },
   "outputs": [
    {
     "name": "stdout",
     "output_type": "stream",
     "text": [
      "7374\n"
     ]
    }
   ],
   "source": [
    "# 35. 名詞の連接\n",
    "sequences = []\n",
    "for sentence in all_sent_list:\n",
    "    sequence = []\n",
    "    for morph in sentence:\n",
    "        if morph[\"pos\"].decode(\"utf-8\") == u\"名詞\":\n",
    "            sequence.append(morph)\n",
    "        else:\n",
    "            if len(sequence) > 1:\n",
    "                sequences.append(sequence)\n",
    "            sequence = []\n",
    "print len(sequences)"
   ]
  },
  {
   "cell_type": "code",
   "execution_count": 7,
   "metadata": {
    "collapsed": false
   },
   "outputs": [
    {
     "name": "stdout",
     "output_type": "stream",
     "text": [
      "11255\n",
      "の:9194\n",
      "。:7486\n",
      "て:6853\n",
      "、:6772\n",
      "は:6422\n",
      "に:6268\n",
      "を:6071\n",
      "だ:5978\n",
      "と:5515\n",
      "が:5339\n",
      "た:4270\n",
      "する:3669\n",
      "「:3231\n",
      "」:3225\n",
      "ない:3054\n",
      "も:2479\n",
      "ある:2322\n",
      "*\n",
      ":2208\n",
      "で:2090\n",
      "から:2042\n",
      "いる:1778\n",
      "ん:1568\n",
      "か:1530\n",
      "云う:1408\n",
      "事:1207\n",
      "です:1164\n",
      "ます:1146\n",
      "なる:1121\n",
      "へ:1034\n",
      "う:987\n"
     ]
    }
   ],
   "source": [
    "# 36. 単語の出現頻度\n",
    "word_count = {}\n",
    "for sentence in all_sent_list:\n",
    "    for morph in sentence:\n",
    "        if not morph[\"base\"] in word_count:\n",
    "            word_count[morph[\"base\"]] = 1\n",
    "        else:\n",
    "            word_count[morph[\"base\"]] += 1\n",
    "sorted_list = sorted(word_count.items(), key=lambda x:x[1], reverse=True)\n",
    "print len(word_count)\n",
    "for t in sorted_list[:30]:\n",
    "    print t[0] + \":\" + str(t[1])"
   ]
  },
  {
   "cell_type": "code",
   "execution_count": 12,
   "metadata": {
    "collapsed": false,
    "scrolled": true
   },
   "outputs": [
    {
     "data": {
      "image/png": "[encoded data removed]",
      "text/plain": [
       "<matplotlib.figure.Figure at 0x11e9daa90>"
      ]
     },
     "metadata": {},
     "output_type": "display_data"
    }
   ],
   "source": [
    "# 37. 頻度上位10語\n",
    "# matplotlibで日本語を表示\n",
    "# http://qiita.com/canard0328/items/a859bffc9c9e11368f37\n",
    "# http://qiita.com/hagino3000/items/1b54acc01483ccd0ac72\n",
    "import matplotlib.pyplot as plt\n",
    "from matplotlib.font_manager import FontProperties\n",
    "%matplotlib inline\n",
    "\n",
    "fp = FontProperties(fname=u'/Library/Fonts/Osaka.ttf', size=14)\n",
    "\n",
    "X = [1, 2, 3, 4, 5, 6, 7, 8, 9, 10]\n",
    "Y = []\n",
    "label = []\n",
    "for t in sorted_list[:10]:\n",
    "    label.append(t[0].decode(\"utf-8\"))\n",
    "    Y.append(t[1])\n",
    "plt.bar(X, Y, align=\"center\")\n",
    "plt.xticks(X, label, fontproperties=fp)\n",
    "plt.show()"
   ]
  },
  {
   "cell_type": "code",
   "execution_count": 20,
   "metadata": {
    "collapsed": false
   },
   "outputs": [
    {
     "name": "stdout",
     "output_type": "stream",
     "text": [
      "11255\n"
     ]
    },
    {
     "data": {
      "text/plain": [
       "(array([    0.,  4721.,  1907.,   957.,   602.,   458.,   326.,   238.,\n",
       "          208.,   161.,   122.,   121.,   120.,    84.,    93.,    73.,\n",
       "           53.,    50.,    56.,    45.,    43.,    29.,    31.,    31.,\n",
       "           34.,    22.,    17.,    25.,    19.,    21.,    23.,    12.,\n",
       "           17.,    15.,    12.,    20.,    17.,     9.,    13.,    11.,\n",
       "           13.,    14.,    10.,     7.,     9.,    11.,     9.,     8.,\n",
       "            9.,    10.]),\n",
       " array([  0.,   1.,   2.,   3.,   4.,   5.,   6.,   7.,   8.,   9.,  10.,\n",
       "         11.,  12.,  13.,  14.,  15.,  16.,  17.,  18.,  19.,  20.,  21.,\n",
       "         22.,  23.,  24.,  25.,  26.,  27.,  28.,  29.,  30.,  31.,  32.,\n",
       "         33.,  34.,  35.,  36.,  37.,  38.,  39.,  40.,  41.,  42.,  43.,\n",
       "         44.,  45.,  46.,  47.,  48.,  49.,  50.]),\n",
       " <a list of 50 Patch objects>)"
      ]
     },
     "execution_count": 20,
     "metadata": {},
     "output_type": "execute_result"
    },
    {
     "data": {
      "image/png": "[encoded data removed]",
      "text/plain": [
       "<matplotlib.figure.Figure at 0x114147e50>"
      ]
     },
     "metadata": {},
     "output_type": "display_data"
    }
   ],
   "source": [
    "# 38. ヒストグラム\n",
    "hist_list = []\n",
    "for t in sorted_list:\n",
    "    hist_list.append(t[1])\n",
    "\n",
    "print len(hist_list)\n",
    "plt.hist(hist_list, bins=50, range=(0, 50))"
   ]
  },
  {
   "cell_type": "code",
   "execution_count": 28,
   "metadata": {
    "collapsed": false
   },
   "outputs": [
    {
     "data": {
      "image/png": "[encoded data removed]",
      "text/plain": [
       "<matplotlib.figure.Figure at 0x1357d0a90>"
      ]
     },
     "metadata": {},
     "output_type": "display_data"
    }
   ],
   "source": [
    "# 39. Zipfの法則\n",
    "import math\n",
    "X = []\n",
    "Y = []\n",
    "i = 1\n",
    "for t in sorted_list:\n",
    "    X.append(math.log(i))\n",
    "    Y.append(math.log(t[1]))\n",
    "    i +=1\n",
    "plt.plot(X, Y)\n",
    "plt.show()"
   ]
  },
  {
   "cell_type": "code",
   "execution_count": null,
   "metadata": {
    "collapsed": true
   },
   "outputs": [],
   "source": []
  }
 ],
 "metadata": {
  "kernelspec": {
   "display_name": "Python 2",
   "language": "python",
   "name": "python2"
  },
  "language_info": {
   "codemirror_mode": {
    "name": "ipython",
    "version": 2
   },
   "file_extension": ".py",
   "mimetype": "text/x-python",
   "name": "python",
   "nbconvert_exporter": "python",
   "pygments_lexer": "ipython2",
   "version": "2.7.9"
  }
 },
 "nbformat": 4,
 "nbformat_minor": 0
}
